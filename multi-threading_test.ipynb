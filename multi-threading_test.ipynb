{
 "metadata": {
  "language_info": {
   "codemirror_mode": {
    "name": "ipython",
    "version": 3
   },
   "file_extension": ".py",
   "mimetype": "text/x-python",
   "name": "python",
   "nbconvert_exporter": "python",
   "pygments_lexer": "ipython3",
   "version": "3.8.3"
  },
  "orig_nbformat": 4,
  "kernelspec": {
   "name": "python3",
   "display_name": "Python 3.8.3 64-bit ('base': conda)"
  },
  "interpreter": {
   "hash": "5d591f94785818b435df4881258bbd57da528693019fb2c63deaaf29b9986dd3"
  }
 },
 "nbformat": 4,
 "nbformat_minor": 2,
 "cells": [
  {
   "cell_type": "code",
   "execution_count": 1,
   "metadata": {},
   "outputs": [
    {
     "output_type": "stream",
     "name": "stdout",
     "text": [
      "EPOCH: 0\n"
     ]
    }
   ],
   "source": [
    "from multiprocessing import Pool\n",
    "from eval_network import *\n",
    "import random\n",
    "from board_conversion import *\n",
    "import numpy as np\n",
    "import chess\n",
    "import time\n",
    "\n",
    "eval_model = define_evaluator()\n",
    "board = chess.Board()\n",
    "epochs = 10\n",
    "\n",
    "def evaluate(x):\n",
    "    return eval_model.predict(x.reshape(1,8,8,12)).flatten()[0]\n",
    "\n",
    "def create_mp(board):\n",
    "    legal_moves = str(board.legal_moves)[38:-2].replace(',','').split()\n",
    "    mp_array = np.array([(board,legal_move) for legal_move in legal_moves])\n",
    "    return mp_array\n",
    "    \n",
    "def random_path(board,move,depth = 10):\n",
    "    play_board = board.copy()\n",
    "    play_board.push_san(move)\n",
    "    for _ in range(depth):\n",
    "        print('Depth:',depth)\n",
    "        legal_moves = str(play_board.legal_moves)[38:-2].replace(',','').split()\n",
    "        if legal_moves:\n",
    "            move = random.choice(legal_moves)\n",
    "            play_board.push_san(move)\n",
    "        else:\n",
    "            break\n",
    "    matrix = make_matrix(play_board.copy())\n",
    "    translated = np.array(translate(matrix))\n",
    "    return evaluate(translated)\n",
    "\n",
    "def eval_mp(board):\n",
    "    print('Start Multiprocessing')\n",
    "    mp_array = create_mp(board)\n",
    "    time1 = time.time()\n",
    "    with Pool(5) as p2:\n",
    "        eval = p2.starmap(random_path,mp_array)\n",
    "    p2.close()\n",
    "    time2 = time.time()\n",
    "    print(time2-time1)\n",
    "    return eval\n",
    "\n",
    "if __name__ == '__main__':\n",
    "    for epoch in range(epochs):\n",
    "        print('EPOCH:',epoch)\n",
    "        if epoch == 0:\n",
    "            score = np.array(eval_mp(board))\n",
    "        else:\n",
    "            score += np.array(eval_mp(board))\n",
    "        print(score)"
   ]
  },
  {
   "cell_type": "code",
   "execution_count": null,
   "metadata": {},
   "outputs": [],
   "source": []
  }
 ]
}
